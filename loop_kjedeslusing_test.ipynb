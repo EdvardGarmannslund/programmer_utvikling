{
 "cells": [
  {
   "cell_type": "markdown",
   "id": "6345674e-ef04-451f-a03a-9f2633fea100",
   "metadata": {},
   "source": [
    "# Kjede editering i hel mappe"
   ]
  },
  {
   "cell_type": "code",
   "execution_count": 1,
   "id": "9460713a-1302-4d2d-b958-ffb02425d7f0",
   "metadata": {},
   "outputs": [],
   "source": [
    "import pandas as pd\n",
    "import os\n",
    "import glob\n",
    "import datetime"
   ]
  },
  {
   "cell_type": "code",
   "execution_count": 2,
   "id": "14ca92d5-c0f0-40d9-9bde-6a70e6520da2",
   "metadata": {},
   "outputs": [
    {
     "data": {
      "text/plain": [
       "'0423'"
      ]
     },
     "execution_count": 2,
     "metadata": {},
     "output_type": "execute_result"
    }
   ],
   "source": [
    "today = datetime.date.today()\n",
    "first = today.replace(day=1)\n",
    "last_month = first - datetime.timedelta(days=1)\n",
    "month01 = last_month.strftime(\"%m%y\")\n",
    "month01"
   ]
  },
  {
   "cell_type": "code",
   "execution_count": 3,
   "id": "3274147d-5159-4074-8e92-e6b88ea6a1ac",
   "metadata": {},
   "outputs": [],
   "source": [
    "path_inn = 'data_inn/'\n",
    "path_rev = 'data_rev/'\n",
    "path_ut = 'data_ut/'\n",
    "alphabet=['a', 'b', 'c', 'd', 'e', 'f', 'g', 'h', 'i', 'j', 'k', 'l', 'm', 'n', 'o', 'p', 'q', 'r', 's', 't', 'u', 'v', 'w', 'x', 'y', 'z']"
   ]
  },
  {
   "cell_type": "code",
   "execution_count": 4,
   "id": "bd09760f-43cc-40a0-962a-7ef9f1f352c0",
   "metadata": {},
   "outputs": [
    {
     "data": {
      "text/plain": [
       "'data_inn/'"
      ]
     },
     "execution_count": 4,
     "metadata": {},
     "output_type": "execute_result"
    }
   ],
   "source": [
    "path_inn"
   ]
  },
  {
   "cell_type": "code",
   "execution_count": 5,
   "id": "4fba1e74-d240-483a-8c29-e65c692c3bc4",
   "metadata": {},
   "outputs": [
    {
     "data": {
      "text/plain": [
       "['bedrift1', 'bedrift']"
      ]
     },
     "execution_count": 5,
     "metadata": {},
     "output_type": "execute_result"
    }
   ],
   "source": [
    "#kjede = ssb_kjede['doi_kjedenavn'] # når det er linket til oracle\n",
    "kjede = ['bedrift1','bedrift']\n",
    "kjede"
   ]
  },
  {
   "cell_type": "code",
   "execution_count": 6,
   "id": "f9e5ebc7-4ede-4b50-8a0f-ae37bde43bb2",
   "metadata": {},
   "outputs": [],
   "source": [
    "for file in kjede:\n",
    "    df = pd.read_excel(path_inn+file+\".xlsx\")\n",
    "    df_rev = pd.read_excel(path_rev+file+\"_rev.xlsx\")\n",
    "    x=len(df.columns)\n",
    "    y = alphabet[0:x]\n",
    "    df.columns = y\n",
    "    for (columnName, columnData) in df.iteritems():\n",
    "            if df[columnName].dropna().isin(df_rev['avd']).any() == True:\n",
    "                    columnRight=columnName\n",
    "                    columnLeft='avd'\n",
    "            elif df[columnName].dropna().isin(df_rev['orgnr']).any() == True:\n",
    "                    columnRight=columnName\n",
    "                    columnLeft='orgnr'\n",
    "    df_rev = pd.merge(df_rev,df,how=\"right\",left_on=columnLeft,right_on=columnRight)\n",
    "    df_rev.columns = [*df_rev.columns[:-1], month01]\n",
    "    df_ut = df_rev[['orgnr',month01]]\n",
    "    df_ut.to_excel(path_ut+file+month01+\".xlsx\", index = False)"
   ]
  },
  {
   "cell_type": "code",
   "execution_count": 7,
   "id": "c9e6b1f0-b9c0-4be1-9b2d-99e0f85959b4",
   "metadata": {},
   "outputs": [
    {
     "data": {
      "text/html": [
       "<div>\n",
       "<style scoped>\n",
       "    .dataframe tbody tr th:only-of-type {\n",
       "        vertical-align: middle;\n",
       "    }\n",
       "\n",
       "    .dataframe tbody tr th {\n",
       "        vertical-align: top;\n",
       "    }\n",
       "\n",
       "    .dataframe thead th {\n",
       "        text-align: right;\n",
       "    }\n",
       "</style>\n",
       "<table border=\"1\" class=\"dataframe\">\n",
       "  <thead>\n",
       "    <tr style=\"text-align: right;\">\n",
       "      <th></th>\n",
       "      <th>orgnr</th>\n",
       "      <th>nace</th>\n",
       "      <th>avd</th>\n",
       "      <th>0323</th>\n",
       "      <th>a</th>\n",
       "      <th>0423</th>\n",
       "    </tr>\n",
       "  </thead>\n",
       "  <tbody>\n",
       "    <tr>\n",
       "      <th>0</th>\n",
       "      <td>NaN</td>\n",
       "      <td>NaN</td>\n",
       "      <td>NaN</td>\n",
       "      <td>NaN</td>\n",
       "      <td>NaN</td>\n",
       "      <td>NaN</td>\n",
       "    </tr>\n",
       "    <tr>\n",
       "      <th>1</th>\n",
       "      <td>NaN</td>\n",
       "      <td>NaN</td>\n",
       "      <td>NaN</td>\n",
       "      <td>NaN</td>\n",
       "      <td>NaN</td>\n",
       "      <td>NaN</td>\n",
       "    </tr>\n",
       "    <tr>\n",
       "      <th>2</th>\n",
       "      <td>NaN</td>\n",
       "      <td>NaN</td>\n",
       "      <td>NaN</td>\n",
       "      <td>NaN</td>\n",
       "      <td>NaN</td>\n",
       "      <td>NaN</td>\n",
       "    </tr>\n",
       "    <tr>\n",
       "      <th>3</th>\n",
       "      <td>NaN</td>\n",
       "      <td>NaN</td>\n",
       "      <td>NaN</td>\n",
       "      <td>NaN</td>\n",
       "      <td>NaN</td>\n",
       "      <td>NaN</td>\n",
       "    </tr>\n",
       "    <tr>\n",
       "      <th>4</th>\n",
       "      <td>NaN</td>\n",
       "      <td>NaN</td>\n",
       "      <td>NaN</td>\n",
       "      <td>NaN</td>\n",
       "      <td>NaN</td>\n",
       "      <td>NaN</td>\n",
       "    </tr>\n",
       "    <tr>\n",
       "      <th>5</th>\n",
       "      <td>NaN</td>\n",
       "      <td>NaN</td>\n",
       "      <td>NaN</td>\n",
       "      <td>NaN</td>\n",
       "      <td>NaN</td>\n",
       "      <td>NaN</td>\n",
       "    </tr>\n",
       "    <tr>\n",
       "      <th>6</th>\n",
       "      <td>NaN</td>\n",
       "      <td>NaN</td>\n",
       "      <td>NaN</td>\n",
       "      <td>NaN</td>\n",
       "      <td>avdeling</td>\n",
       "      <td>oms</td>\n",
       "    </tr>\n",
       "    <tr>\n",
       "      <th>7</th>\n",
       "      <td>999999997.0</td>\n",
       "      <td>47400.0</td>\n",
       "      <td>2.0</td>\n",
       "      <td>1112.0</td>\n",
       "      <td>2</td>\n",
       "      <td>1360</td>\n",
       "    </tr>\n",
       "    <tr>\n",
       "      <th>8</th>\n",
       "      <td>999999996.0</td>\n",
       "      <td>47400.0</td>\n",
       "      <td>3.0</td>\n",
       "      <td>1691.0</td>\n",
       "      <td>3</td>\n",
       "      <td>850</td>\n",
       "    </tr>\n",
       "    <tr>\n",
       "      <th>9</th>\n",
       "      <td>999999995.0</td>\n",
       "      <td>47400.0</td>\n",
       "      <td>4.0</td>\n",
       "      <td>892.0</td>\n",
       "      <td>4</td>\n",
       "      <td>781</td>\n",
       "    </tr>\n",
       "    <tr>\n",
       "      <th>10</th>\n",
       "      <td>999999991.0</td>\n",
       "      <td>47400.0</td>\n",
       "      <td>8.0</td>\n",
       "      <td>1340.0</td>\n",
       "      <td>8</td>\n",
       "      <td>960</td>\n",
       "    </tr>\n",
       "    <tr>\n",
       "      <th>11</th>\n",
       "      <td>999999990.0</td>\n",
       "      <td>47400.0</td>\n",
       "      <td>9.0</td>\n",
       "      <td>1955.0</td>\n",
       "      <td>9</td>\n",
       "      <td>750</td>\n",
       "    </tr>\n",
       "    <tr>\n",
       "      <th>12</th>\n",
       "      <td>999999994.0</td>\n",
       "      <td>47400.0</td>\n",
       "      <td>5.0</td>\n",
       "      <td>789.0</td>\n",
       "      <td>5</td>\n",
       "      <td>1640</td>\n",
       "    </tr>\n",
       "    <tr>\n",
       "      <th>13</th>\n",
       "      <td>999999993.0</td>\n",
       "      <td>47400.0</td>\n",
       "      <td>6.0</td>\n",
       "      <td>985.0</td>\n",
       "      <td>6</td>\n",
       "      <td>1112</td>\n",
       "    </tr>\n",
       "    <tr>\n",
       "      <th>14</th>\n",
       "      <td>999999992.0</td>\n",
       "      <td>47400.0</td>\n",
       "      <td>7.0</td>\n",
       "      <td>684.0</td>\n",
       "      <td>7</td>\n",
       "      <td>1278</td>\n",
       "    </tr>\n",
       "    <tr>\n",
       "      <th>15</th>\n",
       "      <td>999999989.0</td>\n",
       "      <td>47400.0</td>\n",
       "      <td>10.0</td>\n",
       "      <td>852.0</td>\n",
       "      <td>10</td>\n",
       "      <td>789</td>\n",
       "    </tr>\n",
       "    <tr>\n",
       "      <th>16</th>\n",
       "      <td>999999998.0</td>\n",
       "      <td>47400.0</td>\n",
       "      <td>1.0</td>\n",
       "      <td>1250.0</td>\n",
       "      <td>1</td>\n",
       "      <td>1220</td>\n",
       "    </tr>\n",
       "    <tr>\n",
       "      <th>17</th>\n",
       "      <td>NaN</td>\n",
       "      <td>NaN</td>\n",
       "      <td>NaN</td>\n",
       "      <td>NaN</td>\n",
       "      <td>11</td>\n",
       "      <td>1320</td>\n",
       "    </tr>\n",
       "  </tbody>\n",
       "</table>\n",
       "</div>"
      ],
      "text/plain": [
       "          orgnr     nace   avd    0323         a  0423\n",
       "0           NaN      NaN   NaN     NaN       NaN   NaN\n",
       "1           NaN      NaN   NaN     NaN       NaN   NaN\n",
       "2           NaN      NaN   NaN     NaN       NaN   NaN\n",
       "3           NaN      NaN   NaN     NaN       NaN   NaN\n",
       "4           NaN      NaN   NaN     NaN       NaN   NaN\n",
       "5           NaN      NaN   NaN     NaN       NaN   NaN\n",
       "6           NaN      NaN   NaN     NaN  avdeling   oms\n",
       "7   999999997.0  47400.0   2.0  1112.0         2  1360\n",
       "8   999999996.0  47400.0   3.0  1691.0         3   850\n",
       "9   999999995.0  47400.0   4.0   892.0         4   781\n",
       "10  999999991.0  47400.0   8.0  1340.0         8   960\n",
       "11  999999990.0  47400.0   9.0  1955.0         9   750\n",
       "12  999999994.0  47400.0   5.0   789.0         5  1640\n",
       "13  999999993.0  47400.0   6.0   985.0         6  1112\n",
       "14  999999992.0  47400.0   7.0   684.0         7  1278\n",
       "15  999999989.0  47400.0  10.0   852.0        10   789\n",
       "16  999999998.0  47400.0   1.0  1250.0         1  1220\n",
       "17          NaN      NaN   NaN     NaN        11  1320"
      ]
     },
     "execution_count": 7,
     "metadata": {},
     "output_type": "execute_result"
    }
   ],
   "source": [
    "df_rev"
   ]
  }
 ],
 "metadata": {
  "kernelspec": {
   "display_name": "anaconda-2022.05-py39",
   "language": "python",
   "name": "conda-env-anaconda-2022.05-py39-py"
  },
  "language_info": {
   "codemirror_mode": {
    "name": "ipython",
    "version": 3
   },
   "file_extension": ".py",
   "mimetype": "text/x-python",
   "name": "python",
   "nbconvert_exporter": "python",
   "pygments_lexer": "ipython3",
   "version": "3.9.12"
  }
 },
 "nbformat": 4,
 "nbformat_minor": 5
}
