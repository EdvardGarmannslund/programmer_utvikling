{
 "cells": [
  {
   "cell_type": "markdown",
   "id": "a5499091-2254-4456-8aa4-85272f4aefdf",
   "metadata": {},
   "source": [
    "# Autosortering av excel data "
   ]
  },
  {
   "cell_type": "code",
   "execution_count": 38,
   "id": "d855e05e-a18f-4194-b22b-a56f6a774262",
   "metadata": {},
   "outputs": [],
   "source": [
    "import pandas as pd\n",
    "import os\n",
    "import glob\n",
    "import datetime\n",
    "import openpyxl as wb\n",
    "import numpy as np"
   ]
  },
  {
   "cell_type": "code",
   "execution_count": 39,
   "id": "66f9eaef-cfff-4e67-958a-62ef26863f56",
   "metadata": {},
   "outputs": [
    {
     "data": {
      "text/plain": [
       "'0423'"
      ]
     },
     "execution_count": 39,
     "metadata": {},
     "output_type": "execute_result"
    }
   ],
   "source": [
    " today = datetime.date.today()\n",
    " first = today.replace(day=1)\n",
    " last_month = first - datetime.timedelta(days=1)\n",
    " month01 = last_month.strftime(\"%m%y\")\n",
    "month01"
   ]
  },
  {
   "cell_type": "code",
   "execution_count": 73,
   "id": "c16137b3-855b-4fdd-b550-782bf93bc070",
   "metadata": {},
   "outputs": [
    {
     "name": "stderr",
     "output_type": "stream",
     "text": [
      "/tmp/ipykernel_682/2887116124.py:2: FutureWarning: The default value of regex will change from True to False in a future version. In addition, single character regular expressions will *not* be treated as literal strings when regex=True.\n",
      "  df.columns = df.columns.str.replace('$', '')\n"
     ]
    }
   ],
   "source": [
    "df = pd.read_excel(\"data_inn/bedrift.xlsx\")"
   ]
  },
  {
   "cell_type": "code",
   "execution_count": 115,
   "id": "e0745d6f-33fd-4446-be66-0ee07399299f",
   "metadata": {},
   "outputs": [],
   "source": [
    "x=len(df.columns)"
   ]
  },
  {
   "cell_type": "code",
   "execution_count": 116,
   "id": "2914519d-0ba8-4285-bb6d-ca3cb70b082e",
   "metadata": {},
   "outputs": [],
   "source": [
    "alphabet=['a', 'b', 'c', 'd', 'e', 'f', 'g', 'h', 'i', 'j', 'k', 'l', 'm', 'n', 'o', 'p', 'q', 'r', 's', 't', 'u', 'v', 'w', 'x', 'y', 'z']"
   ]
  },
  {
   "cell_type": "code",
   "execution_count": null,
   "id": "20be1dc2-816a-4c0e-9008-1ab2166491b8",
   "metadata": {},
   "outputs": [],
   "source": [
    "df.columns = ['V', 'W', 'X', 'Y', 'Z']"
   ]
  },
  {
   "cell_type": "code",
   "execution_count": 118,
   "id": "f0dcc223-4640-42eb-8d12-a4ea299fcb22",
   "metadata": {},
   "outputs": [
    {
     "data": {
      "text/plain": [
       "['a', 'b']"
      ]
     },
     "execution_count": 118,
     "metadata": {},
     "output_type": "execute_result"
    }
   ],
   "source": [
    "x=len(df.columns)\n",
    "y = alphabet[0:x]\n",
    "df.columns = y"
   ]
  },
  {
   "cell_type": "code",
   "execution_count": 119,
   "id": "9e162603-a5f6-4a4f-9b27-0e3416451510",
   "metadata": {},
   "outputs": [],
   "source": [
    "df.columns = y"
   ]
  },
  {
   "cell_type": "code",
   "execution_count": 120,
   "id": "d336bba7-d143-4471-9749-9eb8df4beef3",
   "metadata": {},
   "outputs": [
    {
     "data": {
      "text/html": [
       "<div>\n",
       "<style scoped>\n",
       "    .dataframe tbody tr th:only-of-type {\n",
       "        vertical-align: middle;\n",
       "    }\n",
       "\n",
       "    .dataframe tbody tr th {\n",
       "        vertical-align: top;\n",
       "    }\n",
       "\n",
       "    .dataframe thead th {\n",
       "        text-align: right;\n",
       "    }\n",
       "</style>\n",
       "<table border=\"1\" class=\"dataframe\">\n",
       "  <thead>\n",
       "    <tr style=\"text-align: right;\">\n",
       "      <th></th>\n",
       "      <th>a</th>\n",
       "      <th>b</th>\n",
       "    </tr>\n",
       "  </thead>\n",
       "  <tbody>\n",
       "    <tr>\n",
       "      <th>0</th>\n",
       "      <td>NaN</td>\n",
       "      <td>NaN</td>\n",
       "    </tr>\n",
       "    <tr>\n",
       "      <th>1</th>\n",
       "      <td>NaN</td>\n",
       "      <td>NaN</td>\n",
       "    </tr>\n",
       "    <tr>\n",
       "      <th>2</th>\n",
       "      <td>avdeling</td>\n",
       "      <td>oms</td>\n",
       "    </tr>\n",
       "    <tr>\n",
       "      <th>3</th>\n",
       "      <td>2</td>\n",
       "      <td>1360</td>\n",
       "    </tr>\n",
       "    <tr>\n",
       "      <th>4</th>\n",
       "      <td>3</td>\n",
       "      <td>850</td>\n",
       "    </tr>\n",
       "    <tr>\n",
       "      <th>5</th>\n",
       "      <td>4</td>\n",
       "      <td>781</td>\n",
       "    </tr>\n",
       "    <tr>\n",
       "      <th>6</th>\n",
       "      <td>8</td>\n",
       "      <td>960</td>\n",
       "    </tr>\n",
       "    <tr>\n",
       "      <th>7</th>\n",
       "      <td>9</td>\n",
       "      <td>750</td>\n",
       "    </tr>\n",
       "    <tr>\n",
       "      <th>8</th>\n",
       "      <td>5</td>\n",
       "      <td>1640</td>\n",
       "    </tr>\n",
       "    <tr>\n",
       "      <th>9</th>\n",
       "      <td>6</td>\n",
       "      <td>1112</td>\n",
       "    </tr>\n",
       "    <tr>\n",
       "      <th>10</th>\n",
       "      <td>7</td>\n",
       "      <td>1278</td>\n",
       "    </tr>\n",
       "    <tr>\n",
       "      <th>11</th>\n",
       "      <td>10</td>\n",
       "      <td>789</td>\n",
       "    </tr>\n",
       "    <tr>\n",
       "      <th>12</th>\n",
       "      <td>1</td>\n",
       "      <td>1220</td>\n",
       "    </tr>\n",
       "  </tbody>\n",
       "</table>\n",
       "</div>"
      ],
      "text/plain": [
       "           a     b\n",
       "0        NaN   NaN\n",
       "1        NaN   NaN\n",
       "2   avdeling   oms\n",
       "3          2  1360\n",
       "4          3   850\n",
       "5          4   781\n",
       "6          8   960\n",
       "7          9   750\n",
       "8          5  1640\n",
       "9          6  1112\n",
       "10         7  1278\n",
       "11        10   789\n",
       "12         1  1220"
      ]
     },
     "execution_count": 120,
     "metadata": {},
     "output_type": "execute_result"
    }
   ],
   "source": [
    "df"
   ]
  },
  {
   "cell_type": "code",
   "execution_count": 41,
   "id": "6c826dca-a3ed-4fbd-a1fc-ca4e0536630d",
   "metadata": {},
   "outputs": [
    {
     "data": {
      "text/html": [
       "<div>\n",
       "<style scoped>\n",
       "    .dataframe tbody tr th:only-of-type {\n",
       "        vertical-align: middle;\n",
       "    }\n",
       "\n",
       "    .dataframe tbody tr th {\n",
       "        vertical-align: top;\n",
       "    }\n",
       "\n",
       "    .dataframe thead th {\n",
       "        text-align: right;\n",
       "    }\n",
       "</style>\n",
       "<table border=\"1\" class=\"dataframe\">\n",
       "  <thead>\n",
       "    <tr style=\"text-align: right;\">\n",
       "      <th></th>\n",
       "      <th>orgnr</th>\n",
       "      <th>nace</th>\n",
       "      <th>avd</th>\n",
       "      <th>0323</th>\n",
       "    </tr>\n",
       "  </thead>\n",
       "  <tbody>\n",
       "    <tr>\n",
       "      <th>0</th>\n",
       "      <td>NaN</td>\n",
       "      <td>NaN</td>\n",
       "      <td>NaN</td>\n",
       "      <td>NaN</td>\n",
       "    </tr>\n",
       "    <tr>\n",
       "      <th>1</th>\n",
       "      <td>NaN</td>\n",
       "      <td>NaN</td>\n",
       "      <td>NaN</td>\n",
       "      <td>NaN</td>\n",
       "    </tr>\n",
       "    <tr>\n",
       "      <th>2</th>\n",
       "      <td>NaN</td>\n",
       "      <td>NaN</td>\n",
       "      <td>NaN</td>\n",
       "      <td>NaN</td>\n",
       "    </tr>\n",
       "    <tr>\n",
       "      <th>3</th>\n",
       "      <td>999999998.0</td>\n",
       "      <td>47400.0</td>\n",
       "      <td>1.0</td>\n",
       "      <td>1250.0</td>\n",
       "    </tr>\n",
       "    <tr>\n",
       "      <th>4</th>\n",
       "      <td>999999997.0</td>\n",
       "      <td>47400.0</td>\n",
       "      <td>2.0</td>\n",
       "      <td>1112.0</td>\n",
       "    </tr>\n",
       "    <tr>\n",
       "      <th>5</th>\n",
       "      <td>999999996.0</td>\n",
       "      <td>47400.0</td>\n",
       "      <td>3.0</td>\n",
       "      <td>1691.0</td>\n",
       "    </tr>\n",
       "    <tr>\n",
       "      <th>6</th>\n",
       "      <td>999999995.0</td>\n",
       "      <td>47400.0</td>\n",
       "      <td>4.0</td>\n",
       "      <td>892.0</td>\n",
       "    </tr>\n",
       "    <tr>\n",
       "      <th>7</th>\n",
       "      <td>999999994.0</td>\n",
       "      <td>47400.0</td>\n",
       "      <td>5.0</td>\n",
       "      <td>789.0</td>\n",
       "    </tr>\n",
       "    <tr>\n",
       "      <th>8</th>\n",
       "      <td>999999993.0</td>\n",
       "      <td>47400.0</td>\n",
       "      <td>6.0</td>\n",
       "      <td>985.0</td>\n",
       "    </tr>\n",
       "    <tr>\n",
       "      <th>9</th>\n",
       "      <td>999999992.0</td>\n",
       "      <td>47400.0</td>\n",
       "      <td>7.0</td>\n",
       "      <td>684.0</td>\n",
       "    </tr>\n",
       "    <tr>\n",
       "      <th>10</th>\n",
       "      <td>999999991.0</td>\n",
       "      <td>47400.0</td>\n",
       "      <td>8.0</td>\n",
       "      <td>1340.0</td>\n",
       "    </tr>\n",
       "    <tr>\n",
       "      <th>11</th>\n",
       "      <td>999999990.0</td>\n",
       "      <td>47400.0</td>\n",
       "      <td>9.0</td>\n",
       "      <td>1955.0</td>\n",
       "    </tr>\n",
       "    <tr>\n",
       "      <th>12</th>\n",
       "      <td>999999989.0</td>\n",
       "      <td>47400.0</td>\n",
       "      <td>10.0</td>\n",
       "      <td>852.0</td>\n",
       "    </tr>\n",
       "  </tbody>\n",
       "</table>\n",
       "</div>"
      ],
      "text/plain": [
       "          orgnr     nace   avd    0323\n",
       "0           NaN      NaN   NaN     NaN\n",
       "1           NaN      NaN   NaN     NaN\n",
       "2           NaN      NaN   NaN     NaN\n",
       "3   999999998.0  47400.0   1.0  1250.0\n",
       "4   999999997.0  47400.0   2.0  1112.0\n",
       "5   999999996.0  47400.0   3.0  1691.0\n",
       "6   999999995.0  47400.0   4.0   892.0\n",
       "7   999999994.0  47400.0   5.0   789.0\n",
       "8   999999993.0  47400.0   6.0   985.0\n",
       "9   999999992.0  47400.0   7.0   684.0\n",
       "10  999999991.0  47400.0   8.0  1340.0\n",
       "11  999999990.0  47400.0   9.0  1955.0\n",
       "12  999999989.0  47400.0  10.0   852.0"
      ]
     },
     "execution_count": 41,
     "metadata": {},
     "output_type": "execute_result"
    }
   ],
   "source": [
    "df_rev = pd.read_excel(\"data_rev/bedrift_rev.xlsx\")\n",
    "df_rev "
   ]
  },
  {
   "cell_type": "markdown",
   "id": "2fb42c91-6247-4987-a217-57917673856f",
   "metadata": {},
   "source": [
    "## Speilet loop for å sjekke at alt fungerer uansett rekkefølge"
   ]
  },
  {
   "cell_type": "code",
   "execution_count": 141,
   "id": "d948b085-07be-4fc5-8fe1-c3a9e826489d",
   "metadata": {},
   "outputs": [],
   "source": [
    "for (columnName, columnData) in df.iteritems():\n",
    "    if df[columnName].dropna().isin(df_rev['avd']).any() == True:\n",
    "            columnRight=columnName\n",
    "            columnLeft='avd'\n",
    "    elif df[columnName].dropna().isin(df_rev['orgnr']).any() == True:\n",
    "            columnRight=columnName\n",
    "            columnLeft='orgnr'"
   ]
  },
  {
   "cell_type": "code",
   "execution_count": 138,
   "id": "001d3368-3f3d-47cd-9d10-318e2edb9a22",
   "metadata": {},
   "outputs": [],
   "source": [
    "for (columnName, columnData) in df.iteritems():\n",
    "    if df[columnName].dropna().isin(df_rev['orgnr']).any() == True:\n",
    "            columnRight=columnName\n",
    "            columnLeft='orgnr'\n",
    "    elif df[columnName].dropna().isin(df_rev['avd']).any() == True:\n",
    "            columnRight=columnName\n",
    "            columnLeft='avd'"
   ]
  },
  {
   "cell_type": "code",
   "execution_count": 139,
   "id": "26592f46-f3b7-4baf-b333-41e22cfb7f66",
   "metadata": {},
   "outputs": [
    {
     "data": {
      "text/plain": [
       "'a'"
      ]
     },
     "execution_count": 139,
     "metadata": {},
     "output_type": "execute_result"
    }
   ],
   "source": [
    "columnRight"
   ]
  },
  {
   "cell_type": "code",
   "execution_count": 143,
   "id": "b016adac-34d8-45ef-8776-e9fd571fbf3f",
   "metadata": {},
   "outputs": [
    {
     "data": {
      "text/plain": [
       "'avd'"
      ]
     },
     "execution_count": 143,
     "metadata": {},
     "output_type": "execute_result"
    }
   ],
   "source": [
    "columnLeft"
   ]
  },
  {
   "cell_type": "code",
   "execution_count": 144,
   "id": "5b25251a-d493-46ed-b246-36e62d521ced",
   "metadata": {},
   "outputs": [
    {
     "data": {
      "text/html": [
       "<div>\n",
       "<style scoped>\n",
       "    .dataframe tbody tr th:only-of-type {\n",
       "        vertical-align: middle;\n",
       "    }\n",
       "\n",
       "    .dataframe tbody tr th {\n",
       "        vertical-align: top;\n",
       "    }\n",
       "\n",
       "    .dataframe thead th {\n",
       "        text-align: right;\n",
       "    }\n",
       "</style>\n",
       "<table border=\"1\" class=\"dataframe\">\n",
       "  <thead>\n",
       "    <tr style=\"text-align: right;\">\n",
       "      <th></th>\n",
       "      <th>orgnr</th>\n",
       "      <th>nace</th>\n",
       "      <th>avd</th>\n",
       "      <th>0423</th>\n",
       "    </tr>\n",
       "  </thead>\n",
       "  <tbody>\n",
       "    <tr>\n",
       "      <th>0</th>\n",
       "      <td>NaN</td>\n",
       "      <td>NaN</td>\n",
       "      <td>NaN</td>\n",
       "      <td>NaN</td>\n",
       "    </tr>\n",
       "    <tr>\n",
       "      <th>1</th>\n",
       "      <td>NaN</td>\n",
       "      <td>NaN</td>\n",
       "      <td>NaN</td>\n",
       "      <td>NaN</td>\n",
       "    </tr>\n",
       "    <tr>\n",
       "      <th>2</th>\n",
       "      <td>NaN</td>\n",
       "      <td>NaN</td>\n",
       "      <td>NaN</td>\n",
       "      <td>NaN</td>\n",
       "    </tr>\n",
       "    <tr>\n",
       "      <th>3</th>\n",
       "      <td>999999998.0</td>\n",
       "      <td>47400.0</td>\n",
       "      <td>1.0</td>\n",
       "      <td>1250.0</td>\n",
       "    </tr>\n",
       "    <tr>\n",
       "      <th>4</th>\n",
       "      <td>999999997.0</td>\n",
       "      <td>47400.0</td>\n",
       "      <td>2.0</td>\n",
       "      <td>1112.0</td>\n",
       "    </tr>\n",
       "    <tr>\n",
       "      <th>5</th>\n",
       "      <td>999999996.0</td>\n",
       "      <td>47400.0</td>\n",
       "      <td>3.0</td>\n",
       "      <td>1691.0</td>\n",
       "    </tr>\n",
       "    <tr>\n",
       "      <th>6</th>\n",
       "      <td>999999995.0</td>\n",
       "      <td>47400.0</td>\n",
       "      <td>4.0</td>\n",
       "      <td>892.0</td>\n",
       "    </tr>\n",
       "    <tr>\n",
       "      <th>7</th>\n",
       "      <td>999999994.0</td>\n",
       "      <td>47400.0</td>\n",
       "      <td>5.0</td>\n",
       "      <td>789.0</td>\n",
       "    </tr>\n",
       "    <tr>\n",
       "      <th>8</th>\n",
       "      <td>999999993.0</td>\n",
       "      <td>47400.0</td>\n",
       "      <td>6.0</td>\n",
       "      <td>985.0</td>\n",
       "    </tr>\n",
       "    <tr>\n",
       "      <th>9</th>\n",
       "      <td>999999992.0</td>\n",
       "      <td>47400.0</td>\n",
       "      <td>7.0</td>\n",
       "      <td>684.0</td>\n",
       "    </tr>\n",
       "    <tr>\n",
       "      <th>10</th>\n",
       "      <td>999999991.0</td>\n",
       "      <td>47400.0</td>\n",
       "      <td>8.0</td>\n",
       "      <td>1340.0</td>\n",
       "    </tr>\n",
       "    <tr>\n",
       "      <th>11</th>\n",
       "      <td>999999990.0</td>\n",
       "      <td>47400.0</td>\n",
       "      <td>9.0</td>\n",
       "      <td>1955.0</td>\n",
       "    </tr>\n",
       "    <tr>\n",
       "      <th>12</th>\n",
       "      <td>999999989.0</td>\n",
       "      <td>47400.0</td>\n",
       "      <td>10.0</td>\n",
       "      <td>852.0</td>\n",
       "    </tr>\n",
       "  </tbody>\n",
       "</table>\n",
       "</div>"
      ],
      "text/plain": [
       "          orgnr     nace   avd    0423\n",
       "0           NaN      NaN   NaN     NaN\n",
       "1           NaN      NaN   NaN     NaN\n",
       "2           NaN      NaN   NaN     NaN\n",
       "3   999999998.0  47400.0   1.0  1250.0\n",
       "4   999999997.0  47400.0   2.0  1112.0\n",
       "5   999999996.0  47400.0   3.0  1691.0\n",
       "6   999999995.0  47400.0   4.0   892.0\n",
       "7   999999994.0  47400.0   5.0   789.0\n",
       "8   999999993.0  47400.0   6.0   985.0\n",
       "9   999999992.0  47400.0   7.0   684.0\n",
       "10  999999991.0  47400.0   8.0  1340.0\n",
       "11  999999990.0  47400.0   9.0  1955.0\n",
       "12  999999989.0  47400.0  10.0   852.0"
      ]
     },
     "execution_count": 144,
     "metadata": {},
     "output_type": "execute_result"
    }
   ],
   "source": [
    "df_rev.columns = [*df_rev.columns[:-1], month01]\n",
    "df_rev"
   ]
  },
  {
   "cell_type": "code",
   "execution_count": 146,
   "id": "011ee454-2ce4-46c1-8fe2-4ca64006cbd9",
   "metadata": {},
   "outputs": [
    {
     "data": {
      "text/html": [
       "<div>\n",
       "<style scoped>\n",
       "    .dataframe tbody tr th:only-of-type {\n",
       "        vertical-align: middle;\n",
       "    }\n",
       "\n",
       "    .dataframe tbody tr th {\n",
       "        vertical-align: top;\n",
       "    }\n",
       "\n",
       "    .dataframe thead th {\n",
       "        text-align: right;\n",
       "    }\n",
       "</style>\n",
       "<table border=\"1\" class=\"dataframe\">\n",
       "  <thead>\n",
       "    <tr style=\"text-align: right;\">\n",
       "      <th></th>\n",
       "      <th>orgnr</th>\n",
       "      <th>0423</th>\n",
       "    </tr>\n",
       "  </thead>\n",
       "  <tbody>\n",
       "    <tr>\n",
       "      <th>0</th>\n",
       "      <td>NaN</td>\n",
       "      <td>NaN</td>\n",
       "    </tr>\n",
       "    <tr>\n",
       "      <th>1</th>\n",
       "      <td>NaN</td>\n",
       "      <td>NaN</td>\n",
       "    </tr>\n",
       "    <tr>\n",
       "      <th>2</th>\n",
       "      <td>NaN</td>\n",
       "      <td>NaN</td>\n",
       "    </tr>\n",
       "    <tr>\n",
       "      <th>3</th>\n",
       "      <td>999999998.0</td>\n",
       "      <td>1250.0</td>\n",
       "    </tr>\n",
       "    <tr>\n",
       "      <th>4</th>\n",
       "      <td>999999997.0</td>\n",
       "      <td>1112.0</td>\n",
       "    </tr>\n",
       "    <tr>\n",
       "      <th>5</th>\n",
       "      <td>999999996.0</td>\n",
       "      <td>1691.0</td>\n",
       "    </tr>\n",
       "    <tr>\n",
       "      <th>6</th>\n",
       "      <td>999999995.0</td>\n",
       "      <td>892.0</td>\n",
       "    </tr>\n",
       "    <tr>\n",
       "      <th>7</th>\n",
       "      <td>999999994.0</td>\n",
       "      <td>789.0</td>\n",
       "    </tr>\n",
       "    <tr>\n",
       "      <th>8</th>\n",
       "      <td>999999993.0</td>\n",
       "      <td>985.0</td>\n",
       "    </tr>\n",
       "    <tr>\n",
       "      <th>9</th>\n",
       "      <td>999999992.0</td>\n",
       "      <td>684.0</td>\n",
       "    </tr>\n",
       "    <tr>\n",
       "      <th>10</th>\n",
       "      <td>999999991.0</td>\n",
       "      <td>1340.0</td>\n",
       "    </tr>\n",
       "    <tr>\n",
       "      <th>11</th>\n",
       "      <td>999999990.0</td>\n",
       "      <td>1955.0</td>\n",
       "    </tr>\n",
       "    <tr>\n",
       "      <th>12</th>\n",
       "      <td>999999989.0</td>\n",
       "      <td>852.0</td>\n",
       "    </tr>\n",
       "  </tbody>\n",
       "</table>\n",
       "</div>"
      ],
      "text/plain": [
       "          orgnr    0423\n",
       "0           NaN     NaN\n",
       "1           NaN     NaN\n",
       "2           NaN     NaN\n",
       "3   999999998.0  1250.0\n",
       "4   999999997.0  1112.0\n",
       "5   999999996.0  1691.0\n",
       "6   999999995.0   892.0\n",
       "7   999999994.0   789.0\n",
       "8   999999993.0   985.0\n",
       "9   999999992.0   684.0\n",
       "10  999999991.0  1340.0\n",
       "11  999999990.0  1955.0\n",
       "12  999999989.0   852.0"
      ]
     },
     "execution_count": 146,
     "metadata": {},
     "output_type": "execute_result"
    }
   ],
   "source": [
    "df_ut = df_rev[['orgnr',month01]]\n",
    "df_ut"
   ]
  },
  {
   "cell_type": "code",
   "execution_count": 9,
   "id": "c6741966-fd6d-4f5a-a487-cf0d00c05825",
   "metadata": {},
   "outputs": [],
   "source": [
    "df_ut.to_excel(\"df_ut.xlsx\", index = False)"
   ]
  }
 ],
 "metadata": {
  "kernelspec": {
   "display_name": "anaconda-2022.05-py39",
   "language": "python",
   "name": "conda-env-anaconda-2022.05-py39-py"
  },
  "language_info": {
   "codemirror_mode": {
    "name": "ipython",
    "version": 3
   },
   "file_extension": ".py",
   "mimetype": "text/x-python",
   "name": "python",
   "nbconvert_exporter": "python",
   "pygments_lexer": "ipython3",
   "version": "3.9.12"
  }
 },
 "nbformat": 4,
 "nbformat_minor": 5
}
